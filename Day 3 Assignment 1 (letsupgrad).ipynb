{
 "cells": [
  {
   "cell_type": "code",
   "execution_count": 2,
   "metadata": {},
   "outputs": [],
   "source": [
    "#PROBLEM \n",
    "#You are all pilots, you have to land a plane, the altitude required for landing a plane is 1000ft,\n",
    "#if it is less than that tell pilot to land the plane,\n",
    "#or it is more than  but less than 5000ft ask the pilot to \"come down to 1000ft\",\n",
    "#else if it is more than 5000 ft ask the pilot to\"\"go around and try later\"\"\n",
    "\n",
    "#Example Input 1000\n",
    "#Output-Safe to land \n",
    "\n",
    "#Example Input 500\n",
    "#Output-Bring down to 1000\n",
    "\n",
    "#Example Input 6500\n",
    "#Output-Turn Around"
   ]
  },
  {
   "cell_type": "code",
   "execution_count": 5,
   "metadata": {},
   "outputs": [
    {
     "name": "stdout",
     "output_type": "stream",
     "text": [
      "enter the altitude in feets:1000\n",
      "Dear pilots,its Safe to land\n"
     ]
    }
   ],
   "source": [
    "altitude=int(input(\"enter the altitude in feets:\"))\n",
    "if altitude==1000:\n",
    "    print(\"Dear pilots,its Safe to land\")\n",
    "elif altitude<1000:\n",
    "    print(\"dear pilots,Land the plane\")\n",
    "elif altitude>1000 and altitude<5000:\n",
    "    print(\"dear pilots,come down to 1000 feets\")\n",
    "elif altitude>5000:\n",
    "    print(\"dear pilots,'GO AROUND AND TRY LATER'\")"
   ]
  },
  {
   "cell_type": "code",
   "execution_count": 4,
   "metadata": {},
   "outputs": [
    {
     "name": "stdout",
     "output_type": "stream",
     "text": [
      "enter the altitude in feets:600\n",
      "dear pilots,Land the plane\n"
     ]
    }
   ],
   "source": [
    "altitude=int(input(\"enter the altitude in feets:\"))\n",
    "if altitude==1000:\n",
    "    print(\"Dear pilots,its Safe to land\")\n",
    "elif altitude<1000:\n",
    "    print(\"dear pilots,Land the plane\")\n",
    "elif altitude>1000 and altitude<5000:\n",
    "    print(\"dear pilots,come down to 1000 feets\")\n",
    "elif altitude>5000:\n",
    "    print(\"dear pilots,'GO AROUND AND TRY LATER'\")"
   ]
  },
  {
   "cell_type": "code",
   "execution_count": 6,
   "metadata": {},
   "outputs": [
    {
     "name": "stdout",
     "output_type": "stream",
     "text": [
      "enter the altitude in feets:4500\n",
      "dear pilots,come down to 1000 feets\n"
     ]
    }
   ],
   "source": [
    "altitude=int(input(\"enter the altitude in feets:\"))\n",
    "if altitude==1000:\n",
    "    print(\"Dear pilots,its Safe to land\")\n",
    "elif altitude<1000:\n",
    "    print(\"dear pilots,Land the plane\")\n",
    "elif altitude>1000 and altitude<5000:\n",
    "    print(\"dear pilots,come down to 1000 feets\")\n",
    "elif altitude>5000:\n",
    "    print(\"dear pilots,'GO AROUND AND TRY LATER'\")"
   ]
  },
  {
   "cell_type": "code",
   "execution_count": 7,
   "metadata": {},
   "outputs": [
    {
     "name": "stdout",
     "output_type": "stream",
     "text": [
      "enter the altitude in feets:6500\n",
      "dear pilots,'GO AROUND AND TRY LATER'\n"
     ]
    }
   ],
   "source": [
    "altitude=int(input(\"enter the altitude in feets:\"))\n",
    "if altitude==1000:\n",
    "    print(\"Dear pilots,its Safe to land\")\n",
    "elif altitude<1000:\n",
    "    print(\"dear pilots,Land the plane\")\n",
    "elif altitude>1000 and altitude<5000:\n",
    "    print(\"dear pilots,come down to 1000 feets\")\n",
    "elif altitude>5000:\n",
    "    print(\"dear pilots,'GO AROUND AND TRY LATER'\")"
   ]
  }
 ],
 "metadata": {
  "kernelspec": {
   "display_name": "Python 3",
   "language": "python",
   "name": "python3"
  },
  "language_info": {
   "codemirror_mode": {
    "name": "ipython",
    "version": 3
   },
   "file_extension": ".py",
   "mimetype": "text/x-python",
   "name": "python",
   "nbconvert_exporter": "python",
   "pygments_lexer": "ipython3",
   "version": "3.7.6"
  }
 },
 "nbformat": 4,
 "nbformat_minor": 4
}
