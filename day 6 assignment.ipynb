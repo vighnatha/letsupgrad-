{
 "cells": [
  {
   "cell_type": "markdown",
   "metadata": {},
   "source": [
    "# Assignment 1 Day 6"
   ]
  },
  {
   "cell_type": "code",
   "execution_count": 4,
   "metadata": {},
   "outputs": [],
   "source": [
    "#create a bank account class that has 2 attributes 'owner name and balance'\n",
    "#and 2 methods 'deposit and withraw'"
   ]
  },
  {
   "cell_type": "code",
   "execution_count": 2,
   "metadata": {},
   "outputs": [
    {
     "name": "stdout",
     "output_type": "stream",
     "text": [
      "\n",
      "---WELCOME TO BACK ACCOUNT PROGRAM---\n",
      "\n",
      "Account Holder Name is : VIGHNATHA\n",
      "\n",
      "Initial Account Balance is : 0\n",
      "\n",
      "Enter amount to be Deposited : 500\n",
      "\n",
      "Amount Deposited is : 500.0\n",
      "\n",
      "Enter amount to be Withdrawn : 250\n",
      "\n",
      "You have Withdrew : 250.0\n",
      "\n",
      "Net Avaliable balance is :  250.0\n"
     ]
    }
   ],
   "source": [
    "class BankAccount: \n",
    "\n",
    "    def __init__(self): \n",
    "\n",
    "        self.ownerName=\"VIGHNATHA\"\n",
    "        \n",
    "        self.Balance=0\n",
    "        \n",
    "    def deposit(self): \n",
    "        \n",
    "        Amount=float(input(\"\\nEnter amount to be Deposited : \")) \n",
    "        \n",
    "        self.Balance += Amount \n",
    "        \n",
    "        print(\"\\nAmount Deposited is :\",Amount) \n",
    "  \n",
    "    def withdraw(self): \n",
    "        \n",
    "        Amount = float(input(\"\\nEnter amount to be Withdrawn : \")) \n",
    "        \n",
    "        if self.Balance >= Amount: \n",
    "        \n",
    "            self.Balance -= Amount \n",
    "            \n",
    "            print(\"\\nYou have Withdrew :\", Amount) \n",
    "        \n",
    "        else: \n",
    "        \n",
    "            print(\"\\nInsufficient balance in the account...\") \n",
    "\n",
    "print(\"\\n---WELCOME TO BACK ACCOUNT PROGRAM---\")\n",
    "    \n",
    "BA = BankAccount()\n",
    "\n",
    "print(\"\\nAccount Holder Name is :\",BA.ownerName)\n",
    "    \n",
    "print(\"\\nInitial Account Balance is :\",BA.Balance)\n",
    "   \n",
    "BA.deposit();\n",
    "    \n",
    "BA.withdraw();\n",
    "    \n",
    "print(\"\\nNet Avaliable balance is : \",BA.Balance)"
   ]
  },
  {
   "cell_type": "code",
   "execution_count": 3,
   "metadata": {},
   "outputs": [
    {
     "name": "stdout",
     "output_type": "stream",
     "text": [
      "\n",
      "---WELCOME TO BACK ACCOUNT PROGRAM---\n",
      "\n",
      "Account Holder Name is : VIGHNATHA\n",
      "\n",
      "Initial Account Balance is : 0\n",
      "\n",
      "Enter amount to be Deposited : 2000\n",
      "\n",
      "Amount Deposited is : 2000.0\n",
      "\n",
      "Enter amount to be Withdrawn : 5000\n",
      "\n",
      "Insufficient balance in the account...\n",
      "\n",
      "Net Avaliable balance is :  2000.0\n"
     ]
    }
   ],
   "source": [
    "class BankAccount: \n",
    "\n",
    "    def __init__(self): \n",
    "\n",
    "        self.ownerName=\"VIGHNATHA\"\n",
    "        \n",
    "        self.Balance=0\n",
    "        \n",
    "    def deposit(self): \n",
    "        \n",
    "        Amount=float(input(\"\\nEnter amount to be Deposited : \")) \n",
    "        \n",
    "        self.Balance += Amount \n",
    "        \n",
    "        print(\"\\nAmount Deposited is :\",Amount) \n",
    "  \n",
    "    def withdraw(self): \n",
    "        \n",
    "        Amount = float(input(\"\\nEnter amount to be Withdrawn : \")) \n",
    "        \n",
    "        if self.Balance >= Amount: \n",
    "        \n",
    "            self.Balance -= Amount \n",
    "            \n",
    "            print(\"\\nYou have Withdrew :\", Amount) \n",
    "        \n",
    "        else: \n",
    "        \n",
    "            print(\"\\nInsufficient balance in the account...\") \n",
    "\n",
    "print(\"\\n---WELCOME TO BACK ACCOUNT PROGRAM---\")\n",
    "    \n",
    "BA = BankAccount()\n",
    "\n",
    "print(\"\\nAccount Holder Name is :\",BA.ownerName)\n",
    "    \n",
    "print(\"\\nInitial Account Balance is :\",BA.Balance)\n",
    "   \n",
    "BA.deposit();\n",
    "    \n",
    "BA.withdraw();\n",
    "    \n",
    "print(\"\\nNet Avaliable balance is : \",BA.Balance)"
   ]
  },
  {
   "cell_type": "markdown",
   "metadata": {},
   "source": [
    "# Assignment 2 day 6"
   ]
  },
  {
   "cell_type": "code",
   "execution_count": 5,
   "metadata": {},
   "outputs": [],
   "source": [
    "#create a Cone class that has 2 attributes 'radius r' and 'height h\n",
    "#And 2 methods 'volume' and 'surface area'\n",
    "#Make only 1 class with functions,as in where required import Math"
   ]
  },
  {
   "cell_type": "code",
   "execution_count": 8,
   "metadata": {},
   "outputs": [
    {
     "name": "stdout",
     "output_type": "stream",
     "text": [
      "\n",
      "Enter the radius of cone : 5\n",
      "Enter the height of cone : 10\n",
      "\n",
      "Volume Of Cone is : 261.79938779914943\n",
      "Surface Area Of Cone is : 235.61944901923448\n"
     ]
    }
   ],
   "source": [
    "import math\n",
    "pi = math.pi\n",
    "class Cone:\n",
    "    def __init__(self,r,h):\n",
    "        self.r=r\n",
    "        self.h=h\n",
    "    def volume(self):\n",
    "        result = (1 / 3) * pi * self.r * self.r * self.h\n",
    "        print(\"\\nVolume Of Cone is :\",result)\n",
    "    def surfacearea(self):\n",
    "        result = pi * self.r * self.h + pi * self.r * self.r\n",
    "        print(\"Surface Area Of Cone is :\",result)\n",
    "radius=float(input(\"\\nEnter the radius of cone : \"))\n",
    "height=float(input(\"Enter the height of cone : \"))\n",
    "cone=Cone( radius,height)\n",
    "cone.volume()\n",
    "cone.surfacearea()"
   ]
  }
 ],
 "metadata": {
  "kernelspec": {
   "display_name": "Python 3",
   "language": "python",
   "name": "python3"
  },
  "language_info": {
   "codemirror_mode": {
    "name": "ipython",
    "version": 3
   },
   "file_extension": ".py",
   "mimetype": "text/x-python",
   "name": "python",
   "nbconvert_exporter": "python",
   "pygments_lexer": "ipython3",
   "version": "3.7.6"
  }
 },
 "nbformat": 4,
 "nbformat_minor": 4
}
